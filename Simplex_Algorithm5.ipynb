{
  "nbformat": 4,
  "nbformat_minor": 0,
  "metadata": {
    "colab": {
      "provenance": [],
      "authorship_tag": "ABX9TyPzNHSE8MyzlJHNWzRr5EBo",
      "include_colab_link": true
    },
    "kernelspec": {
      "name": "python3",
      "display_name": "Python 3"
    },
    "language_info": {
      "name": "python"
    }
  },
  "cells": [
    {
      "cell_type": "markdown",
      "metadata": {
        "id": "view-in-github",
        "colab_type": "text"
      },
      "source": [
        "<a href=\"https://colab.research.google.com/github/danie1sung/my-first-repository/blob/main/Simplex_Algorithm5.ipynb\" target=\"_parent\"><img src=\"https://colab.research.google.com/assets/colab-badge.svg\" alt=\"Open In Colab\"/></a>"
      ]
    },
    {
      "cell_type": "code",
      "execution_count": 6,
      "metadata": {
        "colab": {
          "base_uri": "https://localhost:8080/"
        },
        "id": "EZNy_PIkxPkm",
        "outputId": "334bf826-cdf5-4765-b234-6435d94dbaf7"
      },
      "outputs": [
        {
          "output_type": "stream",
          "name": "stdout",
          "text": [
            "([0, 0, 0, 10.0, 0, 0, 0, 30.0, 0, 0, 0, 10.0, 15.0, 10.0, 15.0, 10.0, 30.0, 10.0, 0, 0, 0], 13)\n"
          ]
        }
      ],
      "source": [
        "import math\n",
        "import numpy as np\n",
        "\n",
        "def to_tableau(c, A, b):\n",
        "    idmatnp = np.identity(len(A))\n",
        "    idmat = idmatnp.tolist()\n",
        "    xb = [eq + id + [x] for eq, id, x in zip(A, idmat, b)]   #제약조건 좌변 계수 타블루와 우변 타블루 병합\n",
        "    z = c + [0]*(len(A)+1)                                   #목적함수 좌변 계수 타블루와 0 병합\n",
        "    return xb + [z]                                          #제약조건 및 목적함수 계수 타블루 병합\n",
        "\n",
        "def can_be_improved(tableau):\n",
        "    z = tableau[-1]\n",
        "    return any(x > 0 for x in z[:-1])       #목적함수값이 개선 가능한지 판단. 최소화 문제에서는 x < 0\n",
        "\n",
        "def get_pivot_position(tableau):\n",
        "    z = tableau[-1]\n",
        "    column = next(i for i, x in enumerate(z[:-1]) if x > 0)             #목적함수 행에서 음수를 가지는 변수를 진입변수로 지정\n",
        "    restrictions = []\n",
        "    for eq in tableau[:-1]:                                             #지정한 열에서 최소비율 테스트를 통해 최소비율 지정\n",
        "        el = eq[column]\n",
        "        restrictions.append(math.inf if el <= 0 else eq[-1] / el)\n",
        "\n",
        "    row = restrictions.index(min(restrictions))\n",
        "    return row, column                                                     #피봇원소 위치 반환\n",
        "\n",
        "def pivot_step(tableau, pivot_position):\n",
        "    new_tableau = [[] for eq in tableau]\n",
        "\n",
        "    i, j = pivot_position\n",
        "    pivot_value = tableau[i][j]                                       #피봇원소 지정\n",
        "    new_tableau[i] = np.array(tableau[i]) / pivot_value               #피봇행의 각 항을 피봇원수로 나눔\n",
        "\n",
        "    for eq_i, eq in enumerate(tableau):                               #피봇연산 실행\n",
        "        if eq_i != i:\n",
        "            multiplier = np.array(new_tableau[i]) * tableau[eq_i][j]\n",
        "            new_tableau[eq_i] = np.array(tableau[eq_i]) - multiplier  #각 항에서 진입변수항을 소거\n",
        "\n",
        "    return new_tableau                                                #피봇과정을 거친 새로운 타블루 반환\n",
        "\n",
        "\n",
        "def is_basic(column):\n",
        "    return sum(column) == 1 and len([c for c in column if c == 0]) == len(column) - 1 #기저변수인지 판별\n",
        "\n",
        "def get_solution(tableau):\n",
        "    columns = np.array(tableau).T\n",
        "    solutions = []\n",
        "    for column in columns[:-1]:\n",
        "        solution = 0\n",
        "        if is_basic(column):\n",
        "            one_index = column.tolist().index(1)          #기저변수의 위치 저장\n",
        "            solution = columns[-1][one_index]             #기저변수값 저장\n",
        "        solutions.append(solution)\n",
        "\n",
        "    return solutions                                      #최종 기저가능해 반환\n",
        "\n",
        "def simplex(c, A, b):\n",
        "    tableau = to_tableau(c, A, b)\n",
        "    count = 0\n",
        "    while can_be_improved(tableau):                       #목적함수값 개선 가능 여부 판단\n",
        "        count += 1\n",
        "        pivot_position = get_pivot_position(tableau)      #진입변수, 피봇원소 지정\n",
        "        tableau = pivot_step(tableau, pivot_position)     #피봇연산 수행\n",
        "\n",
        "    return get_solution(tableau), count                          #최종 기저가능해 반환\n",
        "\n",
        "\n",
        "\n",
        "c = [ 2, 1, -6, 0, 1, 2, -5, 0, 2, 4, 5, 0, 9, 9, 10]\n",
        "A = [\n",
        "    [ 1, 1, 1, 1, 0, 0, 0, 0, 0, 0, 0, 0, 0, 0, 0], #19\n",
        "    [ 0, 0, 0, 0, 1, 1, 1, 1, 0, 0, 0, 0, 0, 0, 0],\n",
        "    [ 0, 0, 0, 0, 0, 0, 0, 0, 1, 1, 1, 1, 0, 0, 0],\n",
        "    [ 1, 0, 0, 0, 1, 0, 0, 0, 1, 0, 0, 0, 1, 0, 0],\n",
        "    [ 0, 1, 0, 0, 0, 1, 0, 0, 0, 1, 0, 0, 0, 1, 0],\n",
        "    [ 0, 0, 0, 0, 0, 0, 0, 0, 0, 0, 1, 0, 0, 0, 1],\n",
        "\n",
        "]\n",
        "\n",
        "b = [10, 30, 10, 15, 10, 15]\n",
        "print(simplex(c,A,b))\n",
        "\n",
        ""
      ]
    }
  ]
}