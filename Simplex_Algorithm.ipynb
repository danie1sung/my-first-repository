{
  "nbformat": 4,
  "nbformat_minor": 0,
  "metadata": {
    "colab": {
      "provenance": [],
      "authorship_tag": "ABX9TyOZlM5sBnFYW7YQPmrORFgq",
      "include_colab_link": true
    },
    "kernelspec": {
      "name": "python3",
      "display_name": "Python 3"
    },
    "language_info": {
      "name": "python"
    }
  },
  "cells": [
    {
      "cell_type": "markdown",
      "metadata": {
        "id": "view-in-github",
        "colab_type": "text"
      },
      "source": [
        "<a href=\"https://colab.research.google.com/github/danie1sung/my-first-repository/blob/main/Simplex_Algorithm.ipynb\" target=\"_parent\"><img src=\"https://colab.research.google.com/assets/colab-badge.svg\" alt=\"Open In Colab\"/></a>"
      ]
    },
    {
      "cell_type": "code",
      "execution_count": 10,
      "metadata": {
        "colab": {
          "base_uri": "https://localhost:8080/"
        },
        "id": "EZNy_PIkxPkm",
        "outputId": "136b3d69-cf56-4376-9246-ab6d7ba11d25"
      },
      "outputs": [
        {
          "output_type": "stream",
          "name": "stdout",
          "text": [
            "True\n",
            "[100.0, 0, 0, 0, 0, 0.0, 100.0, 100.0, 100.0, 0, 65.0]\n"
          ]
        }
      ],
      "source": [
        "import math\n",
        "import numpy as np\n",
        "\n",
        "def to_tableau(c, A, b):\n",
        "    xb = [eq + [x] for eq, x in zip(A, b)]  #제약조건 좌변 계수 타블루와 우변 타블루 병합\n",
        "    z = c + [0]                             #목적함수 좌변 계수 타블루와 0 병합\n",
        "    return xb + [z]                         #제약조건 및 목적함수 계수 타블루 병합\n",
        "\n",
        "def can_be_improved(tableau):\n",
        "    z = tableau[-1]\n",
        "    return any(x > 0 for x in z[:-1])       #목적함수 타블루에 양수가 남아있어 값을 증가시킬 수 있는지 판단, 최소화 문제에서는 x < 0\n",
        "\n",
        "def get_pivot_position(tableau):\n",
        "    z = tableau[-1]\n",
        "    column = next(i for i, x in enumerate(z[:-1]) if x > 0)   #목적함수 타블루 행에서 음수를 가져 목적함수 증가에 기여할 수 있는 첫 번째 열 지정\n",
        "\n",
        "    restrictions = []\n",
        "    for eq in tableau[:-1]:\n",
        "        el = eq[column]\n",
        "        restrictions.append(math.inf if el <= 0 else eq[-1] / el) #지정한 열에서 최소비율테스트 통해 최소비율 지정\n",
        "\n",
        "    row = restrictions.index(min(restrictions))\n",
        "    return row, column\n",
        "\n",
        "def pivot_step(tableau, pivot_position):\n",
        "    new_tableau = [[] for eq in tableau]     #기존 타블루 행 개수만큼 새로운 타블루의 행 생성\n",
        "\n",
        "    i, j = pivot_position\n",
        "    pivot_value = tableau[i][j]\n",
        "    new_tableau[i] = np.array(tableau[i]) / pivot_value\n",
        "\n",
        "    for eq_i, eq in enumerate(tableau):       #행간연산 실행\n",
        "        if eq_i != i:\n",
        "            multiplier = np.array(new_tableau[i]) * tableau[eq_i][j]\n",
        "            new_tableau[eq_i] = np.array(tableau[eq_i]) - multiplier\n",
        "\n",
        "    return new_tableau\n",
        "\n",
        "\n",
        "def is_basic(column):\n",
        "    return sum(column) == 1 and len([c for c in column if c == 0]) == len(column) - 1\n",
        "\n",
        "def get_solution(tableau):\n",
        "    columns = np.array(tableau).T\n",
        "    solutions = []\n",
        "    for column in columns[:-1]:\n",
        "        solution = 0\n",
        "        if is_basic(column):\n",
        "            one_index = column.tolist().index(1)\n",
        "            solution = columns[-1][one_index]\n",
        "        solutions.append(solution)\n",
        "\n",
        "    return solutions\n",
        "\n",
        "def simplex(c, A, b):\n",
        "    tableau = to_tableau(c, A, b)\n",
        "\n",
        "    while can_be_improved(tableau):\n",
        "        print(can_be_improved(tableau))\n",
        "        pivot_position = get_pivot_position(tableau)\n",
        "        tableau = pivot_step(tableau, pivot_position)\n",
        "\n",
        "    return get_solution(tableau)\n",
        "\n",
        "\n",
        "c = [ 1, 0, 0, 0, 0, 0, 0, 0, 0, 0, 0]\n",
        "A = [\n",
        "    [ 1, 1, 1, 1, 1, 0, 0, 0, 0, 0, 0],\n",
        "    [ 0, 1, 2, 3, 0, 0, 0, 0, 0, 0, 1],\n",
        "    [ 1, 0, 0, 0, 0, 1, 0, 0, 0, 0, 0],\n",
        "    [ 0, 1, 0, 0, 0, 0, 1, 0, 0, 0, 0],\n",
        "    [ 0, 0, 1, 0, 0, 0, 0, 1, 0, 0, 0],\n",
        "    [ 0, 0, 0, 1, 0, 0, 0, 0, 1, 0, 0],\n",
        "]\n",
        "b = [100, 65, 100, 100, 100, 100]\n",
        "print(simplex(c,A,b))"
      ]
    }
  ]
}